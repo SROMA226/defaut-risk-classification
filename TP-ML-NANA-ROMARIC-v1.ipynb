{
 "cells": [
  {
   "cell_type": "markdown",
   "id": "1bd193f6",
   "metadata": {},
   "source": [
    "# TRAVAUX PRATIQUES\n",
    "### COURS DE MACHINE LEARNING - UNIVERSITE VIRTUELLE DU BURKINA FASO - MASTER FD & IA\n",
    "+ ETUDIANT : NANA SIDWENDLUIAN ROMARIC\n",
    "+ ENSEIGNANT : MADAME BIRBA ELIANE"
   ]
  },
  {
   "cell_type": "markdown",
   "id": "4c309a53",
   "metadata": {},
   "source": [
    "### 1. Chargement des données"
   ]
  },
  {
   "cell_type": "code",
   "execution_count": 1,
   "id": "b1dcf660",
   "metadata": {},
   "outputs": [],
   "source": [
    "#importing pyspark\n",
    "import pyspark\n",
    "\n",
    "#importing sparksession\n",
    "from pyspark.sql import SparkSession\n",
    "\n",
    "from pyspark.sql.functions import *\n",
    "\n",
    "from pyspark.ml.classification import LogisticRegression\n",
    "from pyspark.ml.evaluation import BinaryClassificationEvaluator\n",
    "\n",
    "from pyspark.ml.classification import DecisionTreeClassifier\n",
    "\n",
    "from pyspark.ml.classification import RandomForestClassifier"
   ]
  },
  {
   "cell_type": "code",
   "execution_count": 2,
   "id": "298b45eb",
   "metadata": {},
   "outputs": [],
   "source": [
    "#creating a sparksession object and providing appName \n",
    "spark=SparkSession.builder.master(\"local\").appName(\"tp\").getOrCreate()"
   ]
  },
  {
   "cell_type": "code",
   "execution_count": 3,
   "id": "1d7b5c85",
   "metadata": {},
   "outputs": [],
   "source": [
    "datadft = spark.read.format(\"csv\").options(header=True,inferSchema=True).load(\"data/ccdefault.csv\")"
   ]
  },
  {
   "cell_type": "markdown",
   "id": "3ba53c9d",
   "metadata": {},
   "source": [
    "### 2. Analyse exploratoire"
   ]
  },
  {
   "cell_type": "code",
   "execution_count": 4,
   "id": "2d7dff06",
   "metadata": {
    "scrolled": false
   },
   "outputs": [
    {
     "name": "stdout",
     "output_type": "stream",
     "text": [
      "root\n",
      " |-- ID: integer (nullable = true)\n",
      " |-- LIMIT_BAL: integer (nullable = true)\n",
      " |-- SEX: integer (nullable = true)\n",
      " |-- EDUCATION: integer (nullable = true)\n",
      " |-- MARRIAGE: integer (nullable = true)\n",
      " |-- AGE: integer (nullable = true)\n",
      " |-- PAY_0: integer (nullable = true)\n",
      " |-- PAY_2: integer (nullable = true)\n",
      " |-- PAY_3: integer (nullable = true)\n",
      " |-- PAY_4: integer (nullable = true)\n",
      " |-- PAY_5: integer (nullable = true)\n",
      " |-- PAY_6: integer (nullable = true)\n",
      " |-- BILL_AMT1: integer (nullable = true)\n",
      " |-- BILL_AMT2: integer (nullable = true)\n",
      " |-- BILL_AMT3: integer (nullable = true)\n",
      " |-- BILL_AMT4: integer (nullable = true)\n",
      " |-- BILL_AMT5: integer (nullable = true)\n",
      " |-- BILL_AMT6: integer (nullable = true)\n",
      " |-- PAY_AMT1: integer (nullable = true)\n",
      " |-- PAY_AMT2: integer (nullable = true)\n",
      " |-- PAY_AMT3: integer (nullable = true)\n",
      " |-- PAY_AMT4: integer (nullable = true)\n",
      " |-- PAY_AMT5: integer (nullable = true)\n",
      " |-- PAY_AMT6: integer (nullable = true)\n",
      " |-- DEFAULT: integer (nullable = true)\n",
      "\n"
     ]
    }
   ],
   "source": [
    "datadft.printSchema()"
   ]
  },
  {
   "cell_type": "code",
   "execution_count": 5,
   "id": "e1e20fae",
   "metadata": {},
   "outputs": [
    {
     "data": {
      "text/plain": [
       "30000"
      ]
     },
     "execution_count": 5,
     "metadata": {},
     "output_type": "execute_result"
    }
   ],
   "source": [
    "datadft.count()"
   ]
  },
  {
   "cell_type": "code",
   "execution_count": 6,
   "id": "174b5a1d",
   "metadata": {},
   "outputs": [
    {
     "name": "stdout",
     "output_type": "stream",
     "text": [
      "+---+---------+---+---------+--------+---+-----+-----+-----+-----+-----+-----+---------+---------+---------+---------+---------+---------+--------+--------+--------+--------+--------+--------+-------+\n",
      "| ID|LIMIT_BAL|SEX|EDUCATION|MARRIAGE|AGE|PAY_0|PAY_2|PAY_3|PAY_4|PAY_5|PAY_6|BILL_AMT1|BILL_AMT2|BILL_AMT3|BILL_AMT4|BILL_AMT5|BILL_AMT6|PAY_AMT1|PAY_AMT2|PAY_AMT3|PAY_AMT4|PAY_AMT5|PAY_AMT6|DEFAULT|\n",
      "+---+---------+---+---------+--------+---+-----+-----+-----+-----+-----+-----+---------+---------+---------+---------+---------+---------+--------+--------+--------+--------+--------+--------+-------+\n",
      "|  1|    20000|  2|        2|       1| 24|    2|    2|   -1|   -1|   -2|   -2|     3913|     3102|      689|        0|        0|        0|       0|     689|       0|       0|       0|       0|      1|\n",
      "|  2|   120000|  2|        2|       2| 26|   -1|    2|    0|    0|    0|    2|     2682|     1725|     2682|     3272|     3455|     3261|       0|    1000|    1000|    1000|       0|    2000|      1|\n",
      "|  3|    90000|  2|        2|       2| 34|    0|    0|    0|    0|    0|    0|    29239|    14027|    13559|    14331|    14948|    15549|    1518|    1500|    1000|    1000|    1000|    5000|      0|\n",
      "|  4|    50000|  2|        2|       1| 37|    0|    0|    0|    0|    0|    0|    46990|    48233|    49291|    28314|    28959|    29547|    2000|    2019|    1200|    1100|    1069|    1000|      0|\n",
      "|  5|    50000|  1|        2|       1| 57|   -1|    0|   -1|    0|    0|    0|     8617|     5670|    35835|    20940|    19146|    19131|    2000|   36681|   10000|    9000|     689|     679|      0|\n",
      "+---+---------+---+---------+--------+---+-----+-----+-----+-----+-----+-----+---------+---------+---------+---------+---------+---------+--------+--------+--------+--------+--------+--------+-------+\n",
      "only showing top 5 rows\n",
      "\n"
     ]
    }
   ],
   "source": [
    "datadft.show(5)"
   ]
  },
  {
   "cell_type": "code",
   "execution_count": 7,
   "id": "31cefe0f",
   "metadata": {},
   "outputs": [
    {
     "name": "stdout",
     "output_type": "stream",
     "text": [
      "+-------+-----------------+------------------+------------------+------------------+------------------+-----------------+------------------+--------------------+------------------+--------------------+------------------+-----------------+-----------------+-----------------+-----------------+------------------+-----------------+----------------+-----------------+------------------+-----------------+------------------+------------------+-----------------+-------------------+\n",
      "|summary|               ID|         LIMIT_BAL|               SEX|         EDUCATION|          MARRIAGE|              AGE|             PAY_0|               PAY_2|             PAY_3|               PAY_4|             PAY_5|            PAY_6|        BILL_AMT1|        BILL_AMT2|        BILL_AMT3|         BILL_AMT4|        BILL_AMT5|       BILL_AMT6|         PAY_AMT1|          PAY_AMT2|         PAY_AMT3|          PAY_AMT4|          PAY_AMT5|         PAY_AMT6|            DEFAULT|\n",
      "+-------+-----------------+------------------+------------------+------------------+------------------+-----------------+------------------+--------------------+------------------+--------------------+------------------+-----------------+-----------------+-----------------+-----------------+------------------+-----------------+----------------+-----------------+------------------+-----------------+------------------+------------------+-----------------+-------------------+\n",
      "|  count|            30000|             30000|             30000|             30000|             30000|            30000|             30000|               30000|             30000|               30000|             30000|            30000|            30000|            30000|            30000|             30000|            30000|           30000|            30000|             30000|            30000|             30000|             30000|            30000|              30000|\n",
      "|   mean|          15000.5|167484.32266666667|1.6037333333333332|1.8531333333333333|1.5518666666666667|          35.4855|           -0.0167|-0.13376666666666667|           -0.1662|-0.22066666666666668|           -0.2662|          -0.2911|       51223.3309|49179.07516666667|       47013.1548| 43262.94896666666|40311.40096666667|      38871.7604|        5663.5805|         5921.1635|        5225.6815| 4826.076866666666| 4799.387633333334|5215.502566666667|             0.2212|\n",
      "| stddev|8660.398374208891|129747.66156720246|0.4891291960902602|0.7903486597207269|0.5219696006132467|9.217904068090155|1.1238015279973335|  1.1971859730345495|1.1968675684465686|  1.1691386224023357|1.1331874060027525|1.149987625607897|73635.86057552966|71173.76878252832|69349.38742703677|64332.856133916444|60797.15577026471|59554.1075367459|16563.28035402577|23040.870402057186|17606.96146980311|15666.159744032062|15278.305679144742|17777.46577543531|0.41506180569093254|\n",
      "|    min|                1|             10000|                 1|                 0|                 0|               21|                -2|                  -2|                -2|                  -2|                -2|               -2|          -165580|           -69777|          -157264|           -170000|           -81334|         -339603|                0|                 0|                0|                 0|                 0|                0|                  0|\n",
      "|    max|            30000|           1000000|                 2|                 6|                 3|               79|                 8|                   8|                 8|                   8|                 8|                8|           964511|           983931|          1664089|            891586|           927171|          961664|           873552|           1684259|           896040|            621000|            426529|           528666|                  1|\n",
      "+-------+-----------------+------------------+------------------+------------------+------------------+-----------------+------------------+--------------------+------------------+--------------------+------------------+-----------------+-----------------+-----------------+-----------------+------------------+-----------------+----------------+-----------------+------------------+-----------------+------------------+------------------+-----------------+-------------------+\n",
      "\n"
     ]
    }
   ],
   "source": [
    "datadft.describe(datadft.columns).show()"
   ]
  },
  {
   "cell_type": "code",
   "execution_count": 8,
   "id": "7dccde03",
   "metadata": {
    "scrolled": true
   },
   "outputs": [
    {
     "name": "stdout",
     "output_type": "stream",
     "text": [
      "+-------+------------------+-----------------+-----------------+-----------------+------------------+\n",
      "|summary|         LIMIT_BAL|        BILL_AMT1|         PAY_AMT1|        BILL_AMT2|          PAY_AMT2|\n",
      "+-------+------------------+-----------------+-----------------+-----------------+------------------+\n",
      "|  count|             30000|            30000|            30000|            30000|             30000|\n",
      "|   mean|167484.32266666667|       51223.3309|        5663.5805|49179.07516666667|         5921.1635|\n",
      "| stddev|129747.66156720246|73635.86057552966|16563.28035402577|71173.76878252832|23040.870402057186|\n",
      "|    min|             10000|          -165580|                0|           -69777|                 0|\n",
      "|    max|           1000000|           964511|           873552|           983931|           1684259|\n",
      "+-------+------------------+-----------------+-----------------+-----------------+------------------+\n",
      "\n"
     ]
    }
   ],
   "source": [
    "datadft.describe(\"LIMIT_BAL\", \"BILL_AMT1\",\"PAY_AMT1\",\"BILL_AMT2\",\"PAY_AMT2\").show()"
   ]
  },
  {
   "cell_type": "code",
   "execution_count": 9,
   "id": "2fad12ef",
   "metadata": {
    "scrolled": true
   },
   "outputs": [
    {
     "name": "stdout",
     "output_type": "stream",
     "text": [
      "+-------+------------------+-----------------+\n",
      "|summary|         LIMIT_BAL|              AGE|\n",
      "+-------+------------------+-----------------+\n",
      "|  count|             30000|            30000|\n",
      "|   mean|167484.32266666667|          35.4855|\n",
      "| stddev|129747.66156720246|9.217904068090155|\n",
      "|    min|             10000|               21|\n",
      "|    max|           1000000|               79|\n",
      "+-------+------------------+-----------------+\n",
      "\n"
     ]
    }
   ],
   "source": [
    "datadft.describe(\"LIMIT_BAL\", \"AGE\").show()"
   ]
  },
  {
   "cell_type": "code",
   "execution_count": 10,
   "id": "450ef8a3",
   "metadata": {},
   "outputs": [
    {
     "name": "stdout",
     "output_type": "stream",
     "text": [
      "+---+-----+\n",
      "|SEX|count|\n",
      "+---+-----+\n",
      "|  1|11888|\n",
      "|  2|18112|\n",
      "+---+-----+\n",
      "\n"
     ]
    }
   ],
   "source": [
    "datadft.groupBy(\"SEX\").count().orderBy(asc(\"count\")).show() # SEXE ? HOMME=1 FEMME=2"
   ]
  },
  {
   "cell_type": "code",
   "execution_count": 11,
   "id": "c8816c5e",
   "metadata": {},
   "outputs": [
    {
     "name": "stdout",
     "output_type": "stream",
     "text": [
      "+-------+-----+\n",
      "|DEFAULT|count|\n",
      "+-------+-----+\n",
      "|      1| 6636|\n",
      "|      0|23364|\n",
      "+-------+-----+\n",
      "\n"
     ]
    }
   ],
   "source": [
    "datadft.groupBy(\"DEFAULT\").count().orderBy(asc(\"count\")).show() # DÉFAUT DE PAIEMENT ? OUI=1 NON=0"
   ]
  },
  {
   "cell_type": "code",
   "execution_count": 12,
   "id": "cf5c4fb6",
   "metadata": {},
   "outputs": [
    {
     "name": "stdout",
     "output_type": "stream",
     "text": [
      "+-------+---+-----+\n",
      "|DEFAULT|SEX|count|\n",
      "+-------+---+-----+\n",
      "|      0|  1| 9015|\n",
      "|      0|  2|14349|\n",
      "|      1|  2| 3763|\n",
      "|      1|  1| 2873|\n",
      "+-------+---+-----+\n",
      "\n"
     ]
    }
   ],
   "source": [
    "datadft.groupBy(['DEFAULT','SEX']).count().orderBy(asc(\"DEFAULT\")).show() \n",
    "# repartition de la variable cible en fonction du sexe"
   ]
  },
  {
   "cell_type": "code",
   "execution_count": 13,
   "id": "221a3728",
   "metadata": {},
   "outputs": [
    {
     "name": "stdout",
     "output_type": "stream",
     "text": [
      "+-------+---------+-----+\n",
      "|DEFAULT|EDUCATION|count|\n",
      "+-------+---------+-----+\n",
      "|      0|        0|   14|\n",
      "|      0|        1| 8549|\n",
      "|      0|        5|  262|\n",
      "|      0|        6|   43|\n",
      "|      0|        2|10700|\n",
      "|      0|        3| 3680|\n",
      "|      0|        4|  116|\n",
      "|      1|        2| 3330|\n",
      "|      1|        3| 1237|\n",
      "|      1|        1| 2036|\n",
      "|      1|        5|   18|\n",
      "|      1|        4|    7|\n",
      "|      1|        6|    8|\n",
      "+-------+---------+-----+\n",
      "\n"
     ]
    }
   ],
   "source": [
    "datadft.groupBy(['DEFAULT','EDUCATION']).count().orderBy(asc(\"DEFAULT\")).show() \n",
    "# repartition de la variable cible en fonction du niveau d'instruction"
   ]
  },
  {
   "cell_type": "markdown",
   "id": "841cdd51",
   "metadata": {},
   "source": [
    "\n",
    "Les clients qui ont un niveau d'instruction plus élévé sont les plus nombreux à avoir un défaut de paiement\n",
    "D'après l'énoncé, la variable EDUCATION à pour valeur { 1 = graduate school; 2 = university; 3 = high school; 4 = others }.\n",
    "Nous constatons cependant qu'il y a des lignes où la variable EDUCATION a des valeurs plus grandes que 4. Dans ce fichier nous conservons ces lignes, puis nous appliquerons un traitement plus tard dans un autre fichier."
   ]
  },
  {
   "cell_type": "code",
   "execution_count": 14,
   "id": "3a472dc2",
   "metadata": {},
   "outputs": [
    {
     "name": "stdout",
     "output_type": "stream",
     "text": [
      "+-------+--------+-----+\n",
      "|DEFAULT|MARRIAGE|count|\n",
      "+-------+--------+-----+\n",
      "|      0|       0|   49|\n",
      "|      0|       1|10453|\n",
      "|      0|       2|12623|\n",
      "|      0|       3|  239|\n",
      "|      1|       0|    5|\n",
      "|      1|       2| 3341|\n",
      "|      1|       1| 3206|\n",
      "|      1|       3|   84|\n",
      "+-------+--------+-----+\n",
      "\n"
     ]
    }
   ],
   "source": [
    "datadft.groupBy(['DEFAULT','MARRIAGE']).count().orderBy(asc(\"DEFAULT\")).show() \n",
    "# repartition de la variable cible en fonction du statut matrimonial"
   ]
  },
  {
   "cell_type": "markdown",
   "id": "21e793c5",
   "metadata": {},
   "source": [
    "D'après l'énoncé, la variable MARRIAGE à pour valeur { 1 = married; 2 = single; 3 = others }.\n",
    "Nous constatons cependant qu'il y a des lignes où la variable MARRIAGE a une valeur 0 dans certaines lignes. Dans ce fichier nous conservons ces lignes, puis nous appliquerons un traitement plus tard dans un autre fichier."
   ]
  },
  {
   "cell_type": "code",
   "execution_count": 15,
   "id": "54019855",
   "metadata": {},
   "outputs": [
    {
     "name": "stdout",
     "output_type": "stream",
     "text": [
      "+-------+---+-----+\n",
      "|DEFAULT|AGE|count|\n",
      "+-------+---+-----+\n",
      "|      0| 42|  609|\n",
      "|      0| 27| 1164|\n",
      "|      0| 39|  755|\n",
      "|      0| 58|   91|\n",
      "|      0| 71|    3|\n",
      "|      0| 28| 1123|\n",
      "|      0| 56|  129|\n",
      "|      0| 50|  310|\n",
      "|      0| 22|  391|\n",
      "|      0| 31|  988|\n",
      "|      0| 67|   11|\n",
      "|      0| 40|  683|\n",
      "|      0| 57|   95|\n",
      "|      0| 32|  933|\n",
      "|      0| 60|   44|\n",
      "|      0| 73|    1|\n",
      "|      0| 65|   19|\n",
      "|      0| 70|    8|\n",
      "|      0| 48|  362|\n",
      "|      0| 25|  884|\n",
      "+-------+---+-----+\n",
      "only showing top 20 rows\n",
      "\n"
     ]
    }
   ],
   "source": [
    "datadft.groupBy(['DEFAULT','AGE']).count().orderBy(asc(\"DEFAULT\")).show()"
   ]
  },
  {
   "cell_type": "code",
   "execution_count": 16,
   "id": "2aac22d1",
   "metadata": {},
   "outputs": [
    {
     "name": "stdout",
     "output_type": "stream",
     "text": [
      "+-------+---------+-----+\n",
      "|DEFAULT|LIMIT_BAL|count|\n",
      "+-------+---------+-----+\n",
      "|      0|    50000| 2480|\n",
      "|      0|    20000| 1278|\n",
      "|      0|   200000| 1258|\n",
      "|      0|    80000| 1204|\n",
      "|      0|    30000| 1042|\n",
      "|      0|   150000|  923|\n",
      "|      1|    50000|  885|\n",
      "|      0|   180000|  819|\n",
      "|      0|   100000|  776|\n",
      "|      0|   360000|  727|\n",
      "|      1|    20000|  698|\n",
      "|      0|   500000|  641|\n",
      "|      0|   230000|  624|\n",
      "|      0|   210000|  613|\n",
      "|      0|    60000|  592|\n",
      "|      0|   140000|  579|\n",
      "|      0|   130000|  572|\n",
      "|      1|    30000|  568|\n",
      "|      0|   160000|  557|\n",
      "|      0|   120000|  547|\n",
      "+-------+---------+-----+\n",
      "only showing top 20 rows\n",
      "\n"
     ]
    }
   ],
   "source": [
    "datadft.groupBy(['DEFAULT','LIMIT_BAL']).count().orderBy(desc(\"DEFAULT\")).orderBy(desc(\"count\")).show()"
   ]
  },
  {
   "cell_type": "code",
   "execution_count": 17,
   "id": "9566c631",
   "metadata": {},
   "outputs": [
    {
     "name": "stdout",
     "output_type": "stream",
     "text": [
      "+-------+------------------+\n",
      "|DEFAULT|           BALANCE|\n",
      "+-------+------------------+\n",
      "|      0|178099.72607430234|\n",
      "|      1|130109.65641952984|\n",
      "+-------+------------------+\n",
      "\n"
     ]
    }
   ],
   "source": [
    "datadft.createOrReplaceTempView(\"dataView\")\n",
    "spark.sql(\"SELECT DEFAULT, avg(LIMIT_BAL) AS BALANCE FROM dataView GROUP BY DEFAULT ORDER BY BALANCE DESC\").show()"
   ]
  },
  {
   "cell_type": "code",
   "execution_count": 18,
   "id": "8d8a0e2d",
   "metadata": {},
   "outputs": [
    {
     "data": {
      "text/plain": [
       "DataFrame[ID: int, LIMIT_BAL: int, SEX: int, EDUCATION: int, MARRIAGE: int, AGE: int, PAY_0: int, PAY_2: int, PAY_3: int, PAY_4: int, PAY_5: int, PAY_6: int, BILL_AMT1: int, BILL_AMT2: int, BILL_AMT3: int, BILL_AMT4: int, BILL_AMT5: int, BILL_AMT6: int, PAY_AMT1: int, PAY_AMT2: int, PAY_AMT3: int, PAY_AMT4: int, PAY_AMT5: int, PAY_AMT6: int, DEFAULT: int]"
      ]
     },
     "execution_count": 18,
     "metadata": {},
     "output_type": "execute_result"
    }
   ],
   "source": [
    "datadft"
   ]
  },
  {
   "cell_type": "markdown",
   "id": "d3601b73",
   "metadata": {},
   "source": [
    "### 3. Preparation des données\n",
    "#### Renommons la colonne DEFAULT en label"
   ]
  },
  {
   "cell_type": "code",
   "execution_count": 19,
   "id": "17239762",
   "metadata": {},
   "outputs": [],
   "source": [
    "# datadft_bis = datadft.withColumn(\"ID\",\"LIMIT_BAL\",\"SEX\",\"EDUCATION\",\"MARRIAGE\",\"AGE\",\"PAY_0\",\"PAY_2\",\"PAY_3\",\"PAY_4\",\"PAY_5\",\"PAY_6\",\"BILL_AMT1\",\"BILL_AMT2\",\"BILL_AMT3\",\"BILL_AMT4\",\"BILL_AMT5\",\"BILL_AMT6\",\"PAY_AMT1\",\"PAY_AMT2\",\"PAY_AMT3\",\"PAY_AMT4\",\"PAY_AMT5\",\"PAY_AMT6\",\"DEFAULT\")\n",
    "renamedDatadft = datadft.withColumnRenamed(\"DEFAULT\",\"label\")"
   ]
  },
  {
   "cell_type": "code",
   "execution_count": 20,
   "id": "e6ab5adf",
   "metadata": {},
   "outputs": [
    {
     "name": "stdout",
     "output_type": "stream",
     "text": [
      "+---+---------+---+---------+--------+---+-----+-----+-----+-----+-----+-----+---------+---------+---------+---------+---------+---------+--------+--------+--------+--------+--------+--------+-----+\n",
      "| ID|LIMIT_BAL|SEX|EDUCATION|MARRIAGE|AGE|PAY_0|PAY_2|PAY_3|PAY_4|PAY_5|PAY_6|BILL_AMT1|BILL_AMT2|BILL_AMT3|BILL_AMT4|BILL_AMT5|BILL_AMT6|PAY_AMT1|PAY_AMT2|PAY_AMT3|PAY_AMT4|PAY_AMT5|PAY_AMT6|label|\n",
      "+---+---------+---+---------+--------+---+-----+-----+-----+-----+-----+-----+---------+---------+---------+---------+---------+---------+--------+--------+--------+--------+--------+--------+-----+\n",
      "|  1|    20000|  2|        2|       1| 24|    2|    2|   -1|   -1|   -2|   -2|     3913|     3102|      689|        0|        0|        0|       0|     689|       0|       0|       0|       0|    1|\n",
      "|  2|   120000|  2|        2|       2| 26|   -1|    2|    0|    0|    0|    2|     2682|     1725|     2682|     3272|     3455|     3261|       0|    1000|    1000|    1000|       0|    2000|    1|\n",
      "|  3|    90000|  2|        2|       2| 34|    0|    0|    0|    0|    0|    0|    29239|    14027|    13559|    14331|    14948|    15549|    1518|    1500|    1000|    1000|    1000|    5000|    0|\n",
      "|  4|    50000|  2|        2|       1| 37|    0|    0|    0|    0|    0|    0|    46990|    48233|    49291|    28314|    28959|    29547|    2000|    2019|    1200|    1100|    1069|    1000|    0|\n",
      "|  5|    50000|  1|        2|       1| 57|   -1|    0|   -1|    0|    0|    0|     8617|     5670|    35835|    20940|    19146|    19131|    2000|   36681|   10000|    9000|     689|     679|    0|\n",
      "+---+---------+---+---------+--------+---+-----+-----+-----+-----+-----+-----+---------+---------+---------+---------+---------+---------+--------+--------+--------+--------+--------+--------+-----+\n",
      "only showing top 5 rows\n",
      "\n"
     ]
    }
   ],
   "source": [
    "renamedDatadft.show(5)"
   ]
  },
  {
   "cell_type": "code",
   "execution_count": 21,
   "id": "bb6065c2",
   "metadata": {},
   "outputs": [],
   "source": [
    "#  colonne des etiquettes\n",
    "colLabel = \"label\"\n",
    "\n",
    "#  colonne numerique\n",
    "colNum = [col for col in renamedDatadft.columns if col!= colLabel]"
   ]
  },
  {
   "cell_type": "code",
   "execution_count": 22,
   "id": "a4d50a2d",
   "metadata": {},
   "outputs": [
    {
     "data": {
      "text/plain": [
       "['ID',\n",
       " 'LIMIT_BAL',\n",
       " 'SEX',\n",
       " 'EDUCATION',\n",
       " 'MARRIAGE',\n",
       " 'AGE',\n",
       " 'PAY_0',\n",
       " 'PAY_2',\n",
       " 'PAY_3',\n",
       " 'PAY_4',\n",
       " 'PAY_5',\n",
       " 'PAY_6',\n",
       " 'BILL_AMT1',\n",
       " 'BILL_AMT2',\n",
       " 'BILL_AMT3',\n",
       " 'BILL_AMT4',\n",
       " 'BILL_AMT5',\n",
       " 'BILL_AMT6',\n",
       " 'PAY_AMT1',\n",
       " 'PAY_AMT2',\n",
       " 'PAY_AMT3',\n",
       " 'PAY_AMT4',\n",
       " 'PAY_AMT5',\n",
       " 'PAY_AMT6']"
      ]
     },
     "execution_count": 22,
     "metadata": {},
     "output_type": "execute_result"
    }
   ],
   "source": [
    "colNum"
   ]
  },
  {
   "cell_type": "code",
   "execution_count": 23,
   "id": "e4b4252c",
   "metadata": {},
   "outputs": [
    {
     "name": "stdout",
     "output_type": "stream",
     "text": [
      "+--------------------+-----+\n",
      "|            features|label|\n",
      "+--------------------+-----+\n",
      "|[1.15468129385139...|    1|\n",
      "|[2.30936258770278...|    1|\n",
      "|[3.46404388155417...|    0|\n",
      "|[4.61872517540556...|    0|\n",
      "|[5.77340646925695...|    0|\n",
      "+--------------------+-----+\n",
      "only showing top 5 rows\n",
      "\n"
     ]
    }
   ],
   "source": [
    "from pyspark.ml.feature import VectorAssembler, StandardScaler\n",
    "\n",
    "va =  VectorAssembler().setInputCols(colNum).setOutputCol(\"to_be_scaled_features\")\n",
    "\n",
    "featuredDatadft = va.transform(renamedDatadft)\n",
    "\n",
    "scaler =  StandardScaler().setInputCol(\"to_be_scaled_features\").setOutputCol(\"features\")\n",
    "\n",
    "dataset = scaler.fit(featuredDatadft).transform(featuredDatadft).select(\"features\", \"label\")\n",
    "\n",
    "dataset.show(5)"
   ]
  },
  {
   "cell_type": "markdown",
   "id": "f198e2d9",
   "metadata": {},
   "source": [
    "### 4. Application des modèles"
   ]
  },
  {
   "cell_type": "code",
   "execution_count": 24,
   "id": "8e26c5df",
   "metadata": {},
   "outputs": [],
   "source": [
    "trainSet, testSet = dataset.randomSplit([0.8,0.2])"
   ]
  },
  {
   "cell_type": "code",
   "execution_count": 25,
   "id": "cc1d5d5f",
   "metadata": {},
   "outputs": [
    {
     "data": {
      "text/plain": [
       "24010"
      ]
     },
     "execution_count": 25,
     "metadata": {},
     "output_type": "execute_result"
    }
   ],
   "source": [
    "trainSet.count()"
   ]
  },
  {
   "cell_type": "code",
   "execution_count": 26,
   "id": "c1bd33c6",
   "metadata": {},
   "outputs": [
    {
     "data": {
      "text/plain": [
       "5990"
      ]
     },
     "execution_count": 26,
     "metadata": {},
     "output_type": "execute_result"
    }
   ],
   "source": [
    "testSet.count()"
   ]
  },
  {
   "cell_type": "code",
   "execution_count": 27,
   "id": "728d37f8",
   "metadata": {},
   "outputs": [
    {
     "name": "stdout",
     "output_type": "stream",
     "text": [
      "+--------------------+-----+\n",
      "|            features|label|\n",
      "+--------------------+-----+\n",
      "|(24,[0,1,2,3,4,5,...|    0|\n",
      "|(24,[0,1,2,3,4,5,...|    0|\n",
      "|(24,[0,1,2,3,4,5,...|    1|\n",
      "|(24,[0,1,2,3,4,5,...|    1|\n",
      "|(24,[0,1,2,3,4,5,...|    1|\n",
      "+--------------------+-----+\n",
      "only showing top 5 rows\n",
      "\n"
     ]
    }
   ],
   "source": [
    "trainSet.show(5)"
   ]
  },
  {
   "cell_type": "markdown",
   "id": "59e06e93",
   "metadata": {},
   "source": [
    "### 4.1 Logistic Regression"
   ]
  },
  {
   "cell_type": "code",
   "execution_count": 28,
   "id": "3fa583ee",
   "metadata": {},
   "outputs": [],
   "source": [
    "from pyspark.ml.classification import LogisticRegression\n",
    "from pyspark.ml.evaluation import BinaryClassificationEvaluator\n",
    "\n",
    "lr = LogisticRegression(maxIter=100, regParam=0.0001, elasticNetParam=0.1)\n",
    "lrModel = lr.fit(trainSet)"
   ]
  },
  {
   "cell_type": "code",
   "execution_count": 29,
   "id": "637d5ad3",
   "metadata": {},
   "outputs": [
    {
     "name": "stdout",
     "output_type": "stream",
     "text": [
      "Coefficients: [-0.021741799077511652,-0.10177122033887191,-0.04521580458898812,-0.07114937293373588,-0.07936493858026904,0.06967836813214995,0.6251280383863709,0.11493582924386118,0.06944719240978961,0.05505572695441151,0.037448435283436596,0.0005579010558137603,-0.3227225426356211,-0.03194435843587904,0.11429461888777985,0.05079451862353235,0.01823735451185488,0.05562332444776182,-0.15622847890695163,-0.2291329735750258,-0.08667448207609935,-0.05519722837168079,-0.06648819698795533,-0.045074589359989314]\n",
      "Intercept: -0.6853446776524614\n"
     ]
    }
   ],
   "source": [
    "# trainingSummary = lrModel.summary\n",
    "print(\"Coefficients: \" + str(lrModel.coefficients))\n",
    "print(\"Intercept: \" + str(lrModel.intercept))"
   ]
  },
  {
   "cell_type": "code",
   "execution_count": 30,
   "id": "ecb4cbda",
   "metadata": {},
   "outputs": [
    {
     "name": "stdout",
     "output_type": "stream",
     "text": [
      "training set AreaUnderROC:  0.7221510619656176\n",
      "+--------------------+--------------------+\n",
      "|                 FPR|                 TPR|\n",
      "+--------------------+--------------------+\n",
      "|                 0.0|                 0.0|\n",
      "|4.812834224598930...|0.002824858757062147|\n",
      "|0.001069518716577...|0.005273069679849341|\n",
      "|0.001497326203208556|0.008286252354048965|\n",
      "|0.001871657754010...|0.011487758945386064|\n",
      "|0.002085561497326...|0.015254237288135594|\n",
      "|0.002139037433155...|0.019585687382297552|\n",
      "|0.002459893048128...|0.022975517890772127|\n",
      "|0.002513368983957...|0.027306967984934087|\n",
      "|0.002727272727272...|0.031073446327683617|\n",
      "|0.003262032085561...| 0.03370998116760829|\n",
      "|0.003475935828877...|0.037476459510357815|\n",
      "|0.003850267379679...| 0.04067796610169491|\n",
      "|0.004278074866310...|0.043691148775894535|\n",
      "|0.004652406417112299| 0.04689265536723164|\n",
      "|0.005026737967914439|0.050094161958568736|\n",
      "|0.005240641711229946| 0.05386064030131827|\n",
      "|0.005508021390374332| 0.05743879472693032|\n",
      "|0.005989304812834224|0.060263653483992465|\n",
      "|0.006310160427807487| 0.06365348399246705|\n",
      "+--------------------+--------------------+\n",
      "only showing top 20 rows\n",
      "\n",
      "+--------------------+------------------+\n",
      "|              recall|         precision|\n",
      "+--------------------+------------------+\n",
      "|                 0.0|             0.625|\n",
      "|0.002824858757062147|             0.625|\n",
      "|0.005273069679849341|0.5833333333333334|\n",
      "|0.008286252354048965|0.6111111111111112|\n",
      "|0.011487758945386064|0.6354166666666666|\n",
      "|0.015254237288135594|             0.675|\n",
      "|0.019585687382297552|0.7222222222222222|\n",
      "|0.022975517890772127|0.7261904761904762|\n",
      "|0.027306967984934087|0.7552083333333334|\n",
      "|0.031073446327683617|0.7638888888888888|\n",
      "| 0.03370998116760829|0.7458333333333333|\n",
      "|0.037476459510357815|0.7537878787878788|\n",
      "| 0.04067796610169491|              0.75|\n",
      "|0.043691148775894535|0.7435897435897436|\n",
      "| 0.04689265536723164|0.7410714285714286|\n",
      "|0.050094161958568736|0.7388888888888889|\n",
      "| 0.05386064030131827|0.7447916666666666|\n",
      "| 0.05743879472693032|0.7475490196078431|\n",
      "|0.060263653483992465|0.7407407407407407|\n",
      "| 0.06365348399246705|0.7412280701754386|\n",
      "+--------------------+------------------+\n",
      "only showing top 20 rows\n",
      "\n"
     ]
    }
   ],
   "source": [
    "summary = lrModel.summary\n",
    "print(\"training set AreaUnderROC: \",summary.areaUnderROC)\n",
    "summary.roc.show()\n",
    "summary.pr.show()"
   ]
  },
  {
   "cell_type": "code",
   "execution_count": 31,
   "id": "cb6aab79",
   "metadata": {},
   "outputs": [
    {
     "name": "stdout",
     "output_type": "stream",
     "text": [
      "+----------+-----+--------------------+\n",
      "|prediction|label|            features|\n",
      "+----------+-----+--------------------+\n",
      "|       0.0|    1|(24,[0,1,2,3,4,5,...|\n",
      "|       0.0|    0|(24,[0,1,2,3,4,5,...|\n",
      "|       0.0|    0|(24,[0,1,2,3,4,5,...|\n",
      "|       0.0|    0|(24,[0,1,2,3,4,5,...|\n",
      "|       0.0|    0|(24,[0,1,2,3,4,5,...|\n",
      "|       0.0|    1|(24,[0,1,2,3,4,5,...|\n",
      "|       0.0|    1|(24,[0,1,2,3,4,5,...|\n",
      "|       0.0|    0|(24,[0,1,2,3,4,5,...|\n",
      "|       0.0|    0|(24,[0,1,2,3,4,5,...|\n",
      "|       0.0|    0|(24,[0,1,2,3,4,5,...|\n",
      "|       0.0|    0|(24,[0,1,2,3,4,5,...|\n",
      "|       0.0|    1|(24,[0,1,2,3,4,5,...|\n",
      "|       0.0|    0|(24,[0,1,2,3,4,5,...|\n",
      "|       0.0|    0|(24,[0,1,2,3,4,5,...|\n",
      "|       0.0|    1|(24,[0,1,2,3,4,5,...|\n",
      "|       0.0|    0|(24,[0,1,2,3,4,5,...|\n",
      "|       0.0|    0|(24,[0,1,2,3,4,5,...|\n",
      "|       0.0|    0|(24,[0,1,2,3,4,5,...|\n",
      "|       0.0|    1|(24,[0,1,2,3,4,5,...|\n",
      "|       0.0|    0|(24,[0,1,2,3,4,5,...|\n",
      "|       0.0|    0|(24,[0,1,2,3,4,5,...|\n",
      "|       0.0|    1|(24,[0,1,2,3,4,5,...|\n",
      "|       0.0|    0|(24,[0,1,2,3,4,5,...|\n",
      "|       0.0|    1|(24,[0,1,2,3,4,5,...|\n",
      "|       0.0|    0|(24,[0,1,2,3,4,5,...|\n",
      "+----------+-----+--------------------+\n",
      "only showing top 25 rows\n",
      "\n",
      "Test Area Under ROC 0.7324437493693866\n"
     ]
    }
   ],
   "source": [
    "lr_predictions = lrModel.transform(testSet)\n",
    "lr_predictions.select(\"prediction\", \"label\", \"features\").show(25)\n",
    "\n",
    "lr_evaluator = BinaryClassificationEvaluator()\n",
    "print('Test Area Under ROC', lr_evaluator.evaluate(lr_predictions))"
   ]
  },
  {
   "cell_type": "code",
   "execution_count": 32,
   "id": "49575866",
   "metadata": {},
   "outputs": [
    {
     "name": "stdout",
     "output_type": "stream",
     "text": [
      "Accuracy = 0.7324437493693866\n",
      "Test Error = 0.2675562506306134\n"
     ]
    }
   ],
   "source": [
    "lr_evaluator2 = BinaryClassificationEvaluator()\n",
    "accuracy = lr_evaluator2.evaluate(lr_predictions)\n",
    "print(\"Accuracy = %s\" % (accuracy))\n",
    "print(\"Test Error = %s\" % (1.0 - accuracy))"
   ]
  },
  {
   "cell_type": "markdown",
   "id": "cf7d1b2d",
   "metadata": {},
   "source": [
    "### 4.2 Decision Tree"
   ]
  },
  {
   "cell_type": "code",
   "execution_count": 34,
   "id": "18dfb80c",
   "metadata": {},
   "outputs": [
    {
     "name": "stdout",
     "output_type": "stream",
     "text": [
      "+----------+-----+--------------------+\n",
      "|prediction|label|            features|\n",
      "+----------+-----+--------------------+\n",
      "|       0.0|    1|(24,[0,1,2,3,4,5,...|\n",
      "|       0.0|    0|(24,[0,1,2,3,4,5,...|\n",
      "|       0.0|    0|(24,[0,1,2,3,4,5,...|\n",
      "|       0.0|    0|(24,[0,1,2,3,4,5,...|\n",
      "|       0.0|    0|(24,[0,1,2,3,4,5,...|\n",
      "|       0.0|    1|(24,[0,1,2,3,4,5,...|\n",
      "|       0.0|    1|(24,[0,1,2,3,4,5,...|\n",
      "|       0.0|    0|(24,[0,1,2,3,4,5,...|\n",
      "|       0.0|    0|(24,[0,1,2,3,4,5,...|\n",
      "|       0.0|    0|(24,[0,1,2,3,4,5,...|\n",
      "|       0.0|    0|(24,[0,1,2,3,4,5,...|\n",
      "|       0.0|    1|(24,[0,1,2,3,4,5,...|\n",
      "|       0.0|    0|(24,[0,1,2,3,4,5,...|\n",
      "|       0.0|    0|(24,[0,1,2,3,4,5,...|\n",
      "|       0.0|    1|(24,[0,1,2,3,4,5,...|\n",
      "|       0.0|    0|(24,[0,1,2,3,4,5,...|\n",
      "|       0.0|    0|(24,[0,1,2,3,4,5,...|\n",
      "|       0.0|    0|(24,[0,1,2,3,4,5,...|\n",
      "|       0.0|    1|(24,[0,1,2,3,4,5,...|\n",
      "|       0.0|    0|(24,[0,1,2,3,4,5,...|\n",
      "|       0.0|    0|(24,[0,1,2,3,4,5,...|\n",
      "|       0.0|    1|(24,[0,1,2,3,4,5,...|\n",
      "|       0.0|    0|(24,[0,1,2,3,4,5,...|\n",
      "|       0.0|    1|(24,[0,1,2,3,4,5,...|\n",
      "|       0.0|    0|(24,[0,1,2,3,4,5,...|\n",
      "+----------+-----+--------------------+\n",
      "only showing top 25 rows\n",
      "\n",
      "Test Area Under ROC: 0.37598343203226675\n"
     ]
    }
   ],
   "source": [
    "from pyspark.ml.classification import DecisionTreeClassifier\n",
    "from pyspark.ml.evaluation import BinaryClassificationEvaluator\n",
    "\n",
    "dt2 = DecisionTreeClassifier().setLabelCol(\"label\").setFeaturesCol(\"features\").setMaxDepth(8)\n",
    "\n",
    "dtModel2 = dt2.fit(trainSet)\n",
    "\n",
    "# make predictions on the test data\n",
    "dt_predictions2 = dtModel2.transform(testSet)\n",
    "dt_predictions2.select(\"prediction\", \"label\", \"features\").show(25)\n",
    "\n",
    "# evaluate the model\n",
    "dt_evaluator2 = BinaryClassificationEvaluator()\n",
    "print(\"Test Area Under ROC: \" + str(dt_evaluator2.evaluate(dt_predictions2, {dt_evaluator2.metricName: \"areaUnderROC\"})))"
   ]
  },
  {
   "cell_type": "markdown",
   "id": "a6abc232",
   "metadata": {},
   "source": [
    "### 4.3 Random Forest"
   ]
  },
  {
   "cell_type": "code",
   "execution_count": 35,
   "id": "9d804cbc",
   "metadata": {},
   "outputs": [
    {
     "name": "stdout",
     "output_type": "stream",
     "text": [
      "+----------+-----+--------------------+\n",
      "|prediction|label|            features|\n",
      "+----------+-----+--------------------+\n",
      "|       0.0|    1|(24,[0,1,2,3,4,5,...|\n",
      "|       0.0|    0|(24,[0,1,2,3,4,5,...|\n",
      "|       0.0|    0|(24,[0,1,2,3,4,5,...|\n",
      "|       0.0|    0|(24,[0,1,2,3,4,5,...|\n",
      "|       0.0|    0|(24,[0,1,2,3,4,5,...|\n",
      "|       0.0|    1|(24,[0,1,2,3,4,5,...|\n",
      "|       0.0|    1|(24,[0,1,2,3,4,5,...|\n",
      "|       0.0|    0|(24,[0,1,2,3,4,5,...|\n",
      "|       0.0|    0|(24,[0,1,2,3,4,5,...|\n",
      "|       0.0|    0|(24,[0,1,2,3,4,5,...|\n",
      "|       0.0|    0|(24,[0,1,2,3,4,5,...|\n",
      "|       0.0|    1|(24,[0,1,2,3,4,5,...|\n",
      "|       0.0|    0|(24,[0,1,2,3,4,5,...|\n",
      "|       0.0|    0|(24,[0,1,2,3,4,5,...|\n",
      "|       0.0|    1|(24,[0,1,2,3,4,5,...|\n",
      "|       0.0|    0|(24,[0,1,2,3,4,5,...|\n",
      "|       0.0|    0|(24,[0,1,2,3,4,5,...|\n",
      "|       0.0|    0|(24,[0,1,2,3,4,5,...|\n",
      "|       0.0|    1|(24,[0,1,2,3,4,5,...|\n",
      "|       0.0|    0|(24,[0,1,2,3,4,5,...|\n",
      "|       0.0|    0|(24,[0,1,2,3,4,5,...|\n",
      "|       0.0|    1|(24,[0,1,2,3,4,5,...|\n",
      "|       0.0|    0|(24,[0,1,2,3,4,5,...|\n",
      "|       0.0|    1|(24,[0,1,2,3,4,5,...|\n",
      "|       0.0|    0|(24,[0,1,2,3,4,5,...|\n",
      "+----------+-----+--------------------+\n",
      "only showing top 25 rows\n",
      "\n",
      "Test Area Under ROC: 0.7687806898059399\n"
     ]
    }
   ],
   "source": [
    "from pyspark.ml.classification import RandomForestClassifier\n",
    "from pyspark.ml.evaluation import BinaryClassificationEvaluator\n",
    "\n",
    "rfClassifier = RandomForestClassifier().setLabelCol(\"label\").setFeaturesCol(\"features\")\n",
    "\n",
    "trainedModel = rfClassifier.fit(trainSet)\n",
    "\n",
    "# make predictions on the test data\n",
    "rf_predictions = trainedModel.transform(testSet)\n",
    "rf_predictions.select(\"prediction\", \"label\", \"features\").show(25)\n",
    "\n",
    "# evaluate random forest model\n",
    "rf_evaluator = BinaryClassificationEvaluator()\n",
    "print(\"Test Area Under ROC: \" + str(rf_evaluator.evaluate(rf_predictions, {rf_evaluator.metricName: \"areaUnderROC\"})))"
   ]
  },
  {
   "cell_type": "code",
   "execution_count": 36,
   "id": "9c152062",
   "metadata": {},
   "outputs": [
    {
     "name": "stdout",
     "output_type": "stream",
     "text": [
      "Accuracy = 0.7687806898059399\n",
      "Test Error = 0.23121931019406006\n"
     ]
    }
   ],
   "source": [
    "rf_evaluator2 = BinaryClassificationEvaluator(labelCol=\"label\")\n",
    "rf_accuracy = rf_evaluator2.evaluate(rf_predictions)\n",
    "print(\"Accuracy = %s\" % (rf_accuracy))\n",
    "print(\"Test Error = %s\" % (1.0 - rf_accuracy))"
   ]
  }
 ],
 "metadata": {
  "kernelspec": {
   "display_name": "Python 3",
   "language": "python",
   "name": "python3"
  },
  "language_info": {
   "codemirror_mode": {
    "name": "ipython",
    "version": 3
   },
   "file_extension": ".py",
   "mimetype": "text/x-python",
   "name": "python",
   "nbconvert_exporter": "python",
   "pygments_lexer": "ipython3",
   "version": "3.8.8"
  }
 },
 "nbformat": 4,
 "nbformat_minor": 5
}
