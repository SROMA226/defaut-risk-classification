{
 "cells": [
  {
   "cell_type": "markdown",
   "id": "1bd193f6",
   "metadata": {},
   "source": [
    "# TRAVAUX PRATIQUES\n",
    "### COURS DE MACHINE LEARNING - UNIVERSITE VIRTUELLE DU BURKINA FASO - MASTER FD & IA\n",
    "+ ETUDIANT : NANA SIDWENDLUIAN ROMARIC\n",
    "+ ENSEIGNANT : MADAME BIRBA ELIANE"
   ]
  },
  {
   "cell_type": "markdown",
   "id": "4c309a53",
   "metadata": {},
   "source": [
    "### 1. Chargement des données"
   ]
  },
  {
   "cell_type": "code",
   "execution_count": 1,
   "id": "b1dcf660",
   "metadata": {},
   "outputs": [],
   "source": [
    "#importing pyspark\n",
    "import pyspark\n",
    "\n",
    "#importing sparksession\n",
    "from pyspark.sql import SparkSession\n",
    "\n",
    "from pyspark.sql.functions import *\n",
    "\n",
    "from pyspark.ml.classification import LogisticRegression\n",
    "from pyspark.ml.evaluation import BinaryClassificationEvaluator\n",
    "\n",
    "from pyspark.ml.classification import DecisionTreeClassifier\n",
    "\n",
    "from pyspark.ml.classification import RandomForestClassifier"
   ]
  },
  {
   "cell_type": "code",
   "execution_count": 2,
   "id": "298b45eb",
   "metadata": {},
   "outputs": [],
   "source": [
    "#creating a sparksession object and providing appName \n",
    "spark=SparkSession.builder.master(\"local\").appName(\"tp\").getOrCreate()"
   ]
  },
  {
   "cell_type": "markdown",
   "id": "25cd1edb",
   "metadata": {},
   "source": [
    "Constatant les resultats mitigés obtenus dans le fichier précédent, nous avons rétiré certaines lignes du dataset qui contenaient des anomalies. Il s'agit notamment des lignes où:\n",
    "* la variable EDUCATION a des valeurs plus grandes que 4\n",
    "* la variable MARRIAGE a des valeurs 0 (ZÉRO)\n",
    "* les variables PAY_0,PAY_1,PAY_2,....,PAY_6 ont des valeurs -2"
   ]
  },
  {
   "cell_type": "code",
   "execution_count": 3,
   "id": "1d7b5c85",
   "metadata": {},
   "outputs": [],
   "source": [
    "datadft_bis = spark.read.format(\"csv\").options(header=True,inferSchema=True).load(\"data/ccdefault-bis.csv\")"
   ]
  },
  {
   "cell_type": "markdown",
   "id": "3ba53c9d",
   "metadata": {},
   "source": [
    "### 2. Analyse exploratoire"
   ]
  },
  {
   "cell_type": "code",
   "execution_count": 4,
   "id": "2d7dff06",
   "metadata": {
    "scrolled": false
   },
   "outputs": [
    {
     "name": "stdout",
     "output_type": "stream",
     "text": [
      "root\n",
      " |-- ID: integer (nullable = true)\n",
      " |-- LIMIT_BAL: integer (nullable = true)\n",
      " |-- SEX: integer (nullable = true)\n",
      " |-- EDUCATION: integer (nullable = true)\n",
      " |-- MARRIAGE: integer (nullable = true)\n",
      " |-- AGE: integer (nullable = true)\n",
      " |-- PAY_0: integer (nullable = true)\n",
      " |-- PAY_2: integer (nullable = true)\n",
      " |-- PAY_3: integer (nullable = true)\n",
      " |-- PAY_4: integer (nullable = true)\n",
      " |-- PAY_5: integer (nullable = true)\n",
      " |-- PAY_6: integer (nullable = true)\n",
      " |-- BILL_AMT1: integer (nullable = true)\n",
      " |-- BILL_AMT2: integer (nullable = true)\n",
      " |-- BILL_AMT3: integer (nullable = true)\n",
      " |-- BILL_AMT4: integer (nullable = true)\n",
      " |-- BILL_AMT5: integer (nullable = true)\n",
      " |-- BILL_AMT6: integer (nullable = true)\n",
      " |-- PAY_AMT1: integer (nullable = true)\n",
      " |-- PAY_AMT2: integer (nullable = true)\n",
      " |-- PAY_AMT3: integer (nullable = true)\n",
      " |-- PAY_AMT4: integer (nullable = true)\n",
      " |-- PAY_AMT5: integer (nullable = true)\n",
      " |-- PAY_AMT6: integer (nullable = true)\n",
      " |-- DEFAULT: integer (nullable = true)\n",
      "\n"
     ]
    }
   ],
   "source": [
    "datadft_bis.printSchema()"
   ]
  },
  {
   "cell_type": "code",
   "execution_count": 5,
   "id": "e1e20fae",
   "metadata": {},
   "outputs": [
    {
     "data": {
      "text/plain": [
       "53104"
      ]
     },
     "execution_count": 5,
     "metadata": {},
     "output_type": "execute_result"
    }
   ],
   "source": [
    "datadft_bis.count()"
   ]
  },
  {
   "cell_type": "code",
   "execution_count": 6,
   "id": "9320e36b",
   "metadata": {},
   "outputs": [
    {
     "data": {
      "text/plain": [
       "29946"
      ]
     },
     "execution_count": 6,
     "metadata": {},
     "output_type": "execute_result"
    }
   ],
   "source": [
    "datadft_bis.where(\"ID is null\").count()"
   ]
  },
  {
   "cell_type": "code",
   "execution_count": 7,
   "id": "b2accfa4",
   "metadata": {},
   "outputs": [
    {
     "data": {
      "text/plain": [
       "23158"
      ]
     },
     "execution_count": 7,
     "metadata": {},
     "output_type": "execute_result"
    }
   ],
   "source": [
    "datadft_bis.where(\"ID is not null\").count()"
   ]
  },
  {
   "cell_type": "code",
   "execution_count": 8,
   "id": "e6e2dfad",
   "metadata": {},
   "outputs": [],
   "source": [
    "datadft_bis_clean=datadft_bis.where(\"ID is not null\")"
   ]
  },
  {
   "cell_type": "code",
   "execution_count": 9,
   "id": "174b5a1d",
   "metadata": {},
   "outputs": [
    {
     "data": {
      "text/plain": [
       "23158"
      ]
     },
     "execution_count": 9,
     "metadata": {},
     "output_type": "execute_result"
    }
   ],
   "source": [
    "datadft_bis_clean.count()"
   ]
  },
  {
   "cell_type": "code",
   "execution_count": 12,
   "id": "31cefe0f",
   "metadata": {},
   "outputs": [
    {
     "name": "stdout",
     "output_type": "stream",
     "text": [
      "+-------+------------------+------------------+------------------+------------------+------------------+-----------------+------------------+-------------------+-------------------+------------------+------------------+-------------------+-----------------+-----------------+-----------------+------------------+------------------+------------------+-----------------+------------------+------------------+------------------+------------------+------------------+------------------+\n",
      "|summary|                ID|         LIMIT_BAL|               SEX|         EDUCATION|          MARRIAGE|              AGE|             PAY_0|              PAY_2|              PAY_3|             PAY_4|             PAY_5|              PAY_6|        BILL_AMT1|        BILL_AMT2|        BILL_AMT3|         BILL_AMT4|         BILL_AMT5|         BILL_AMT6|         PAY_AMT1|          PAY_AMT2|          PAY_AMT3|          PAY_AMT4|          PAY_AMT5|          PAY_AMT6|           DEFAULT|\n",
      "+-------+------------------+------------------+------------------+------------------+------------------+-----------------+------------------+-------------------+-------------------+------------------+------------------+-------------------+-----------------+-----------------+-----------------+------------------+------------------+------------------+-----------------+------------------+------------------+------------------+------------------+------------------+------------------+\n",
      "|  count|             23158|             23158|             23158|             23158|             23158|            23158|             23158|              23158|              23158|             23158|             23158|              23158|            23158|            23158|            23158|             23158|             23158|             23158|            23158|             23158|             23158|             23158|             23158|             23158|             23158|\n",
      "|   mean|14916.514509024959|156289.99395457294|1.5915450384316434|1.8514120390361861|1.5644269798773642|35.24509888591415| 0.180326453061577|0.18874686933241214|0.17445375248294326|0.1332584851887037|0.0918041281630538|0.08826323516711287|61282.07107694965|59663.90612315399|57343.27321012177|53264.461222903534|49786.018870368775|47915.041195267295|6075.015243112532| 6121.004836341653| 5562.976941013904| 5089.545815700838| 5049.283875982382| 5334.334312116763|0.2315398566370153|\n",
      "| stddev| 8614.422528409888|127579.85957421701|0.4915586840970848|0.7006406369665048|0.5187412618034684|9.291428745301381|0.9848565503867994| 1.0345749644615636| 1.0223398941110264|0.9888780901255524| 0.941911434746279| 0.9498271923186254|77602.34303734612|75193.40105589147|72368.62997241326| 68063.73018666815| 64341.13974498193|63112.234644456585|16902.04758187008|20302.039638491944|18130.689034411655|15541.648029188553|14947.882729376512|17297.428548142714|0.4218255978798094|\n",
      "|    min|                 2|             10000|                 1|                 0|                 1|               21|                -1|                 -1|                 -1|                -1|                -1|                 -1|          -165580|           -67526|          -157264|           -170000|            -81334|           -339603|                0|                 0|                 0|                 0|                 0|                 0|                 0|\n",
      "|    max|             30000|           1000000|                 2|                 4|                 3|               79|                 8|                  8|                  8|                 8|                 8|                  8|           964511|           983931|           693131|            891586|            927171|            961664|           873552|           1227082|            896040|            621000|            426529|            528666|                 1|\n",
      "+-------+------------------+------------------+------------------+------------------+------------------+-----------------+------------------+-------------------+-------------------+------------------+------------------+-------------------+-----------------+-----------------+-----------------+------------------+------------------+------------------+-----------------+------------------+------------------+------------------+------------------+------------------+------------------+\n",
      "\n"
     ]
    }
   ],
   "source": [
    "datadft_bis_clean.describe(datadft_bis_clean.columns).show()"
   ]
  },
  {
   "cell_type": "code",
   "execution_count": 13,
   "id": "7dccde03",
   "metadata": {
    "scrolled": true
   },
   "outputs": [
    {
     "name": "stdout",
     "output_type": "stream",
     "text": [
      "+-------+------------------+-----------------+-----------------+-----------------+------------------+\n",
      "|summary|         LIMIT_BAL|        BILL_AMT1|         PAY_AMT1|        BILL_AMT2|          PAY_AMT2|\n",
      "+-------+------------------+-----------------+-----------------+-----------------+------------------+\n",
      "|  count|             23158|            23158|            23158|            23158|             23158|\n",
      "|   mean|156289.99395457294|61282.07107694965|6075.015243112532|59663.90612315399| 6121.004836341653|\n",
      "| stddev|127579.85957421701|77602.34303734612|16902.04758187008|75193.40105589147|20302.039638491944|\n",
      "|    min|             10000|          -165580|                0|           -67526|                 0|\n",
      "|    max|           1000000|           964511|           873552|           983931|           1227082|\n",
      "+-------+------------------+-----------------+-----------------+-----------------+------------------+\n",
      "\n"
     ]
    }
   ],
   "source": [
    "datadft_bis_clean.describe(\"LIMIT_BAL\", \"BILL_AMT1\",\"PAY_AMT1\",\"BILL_AMT2\",\"PAY_AMT2\").show()"
   ]
  },
  {
   "cell_type": "code",
   "execution_count": 14,
   "id": "2fad12ef",
   "metadata": {
    "scrolled": true
   },
   "outputs": [
    {
     "name": "stdout",
     "output_type": "stream",
     "text": [
      "+-------+------------------+-----------------+\n",
      "|summary|         LIMIT_BAL|              AGE|\n",
      "+-------+------------------+-----------------+\n",
      "|  count|             23158|            23158|\n",
      "|   mean|156289.99395457294|35.24509888591415|\n",
      "| stddev|127579.85957421701|9.291428745301381|\n",
      "|    min|             10000|               21|\n",
      "|    max|           1000000|               79|\n",
      "+-------+------------------+-----------------+\n",
      "\n"
     ]
    }
   ],
   "source": [
    "datadft_bis_clean.describe(\"LIMIT_BAL\", \"AGE\").show()"
   ]
  },
  {
   "cell_type": "code",
   "execution_count": 15,
   "id": "450ef8a3",
   "metadata": {},
   "outputs": [
    {
     "name": "stdout",
     "output_type": "stream",
     "text": [
      "+---+-----+\n",
      "|SEX|count|\n",
      "+---+-----+\n",
      "|  1| 9459|\n",
      "|  2|13699|\n",
      "+---+-----+\n",
      "\n"
     ]
    }
   ],
   "source": [
    "datadft_bis_clean.groupBy(\"SEX\").count().orderBy(asc(\"count\")).show() # SEXE ? HOMME=1 FEMME=2"
   ]
  },
  {
   "cell_type": "code",
   "execution_count": 16,
   "id": "c8816c5e",
   "metadata": {},
   "outputs": [
    {
     "name": "stdout",
     "output_type": "stream",
     "text": [
      "+-------+-----+\n",
      "|DEFAULT|count|\n",
      "+-------+-----+\n",
      "|      1| 5362|\n",
      "|      0|17796|\n",
      "+-------+-----+\n",
      "\n"
     ]
    }
   ],
   "source": [
    "datadft_bis_clean.groupBy(\"DEFAULT\").count().orderBy(asc(\"count\")).show() # DÉFAUT DE PAIEMENT ? OUI=1 NON=0"
   ]
  },
  {
   "cell_type": "code",
   "execution_count": 17,
   "id": "cf5c4fb6",
   "metadata": {},
   "outputs": [
    {
     "name": "stdout",
     "output_type": "stream",
     "text": [
      "+-------+---+-----+\n",
      "|DEFAULT|SEX|count|\n",
      "+-------+---+-----+\n",
      "|      0|  1| 7081|\n",
      "|      0|  2|10715|\n",
      "|      1|  2| 2984|\n",
      "|      1|  1| 2378|\n",
      "+-------+---+-----+\n",
      "\n"
     ]
    }
   ],
   "source": [
    "datadft_bis_clean.groupBy(['DEFAULT','SEX']).count().orderBy(asc(\"DEFAULT\")).show() \n",
    "# repartition de la variable cible en fonction du sexe"
   ]
  },
  {
   "cell_type": "code",
   "execution_count": 18,
   "id": "221a3728",
   "metadata": {},
   "outputs": [
    {
     "name": "stdout",
     "output_type": "stream",
     "text": [
      "+-------+---------+-----+\n",
      "|DEFAULT|EDUCATION|count|\n",
      "+-------+---------+-----+\n",
      "|      0|        0|    8|\n",
      "|      0|        1| 6085|\n",
      "|      0|        2| 8672|\n",
      "|      0|        3| 2962|\n",
      "|      0|        4|   69|\n",
      "|      1|        2| 2847|\n",
      "|      1|        1| 1479|\n",
      "|      1|        3| 1033|\n",
      "|      1|        4|    3|\n",
      "+-------+---------+-----+\n",
      "\n"
     ]
    }
   ],
   "source": [
    "datadft_bis_clean.groupBy(['DEFAULT','EDUCATION']).count().orderBy(asc(\"DEFAULT\")).show() \n",
    "# repartition de la variable cible en fonction du niveau d'instruction"
   ]
  },
  {
   "cell_type": "code",
   "execution_count": 19,
   "id": "3a472dc2",
   "metadata": {},
   "outputs": [
    {
     "name": "stdout",
     "output_type": "stream",
     "text": [
      "+-------+--------+-----+\n",
      "|DEFAULT|MARRIAGE|count|\n",
      "+-------+--------+-----+\n",
      "|      0|       1| 7792|\n",
      "|      0|       2| 9809|\n",
      "|      0|       3|  195|\n",
      "|      1|       2| 2724|\n",
      "|      1|       1| 2564|\n",
      "|      1|       3|   74|\n",
      "+-------+--------+-----+\n",
      "\n"
     ]
    }
   ],
   "source": [
    "datadft_bis_clean.groupBy(['DEFAULT','MARRIAGE']).count().orderBy(asc(\"DEFAULT\")).show() \n",
    "# repartition de la variable cible en fonction du statut matrimonial"
   ]
  },
  {
   "cell_type": "code",
   "execution_count": 20,
   "id": "8386cd31",
   "metadata": {},
   "outputs": [
    {
     "name": "stdout",
     "output_type": "stream",
     "text": [
      "+-------+---+-----+\n",
      "|DEFAULT|AGE|count|\n",
      "+-------+---+-----+\n",
      "|      0| 42|  452|\n",
      "|      0| 27|  918|\n",
      "|      0| 39|  566|\n",
      "|      0| 31|  708|\n",
      "|      0| 71|    3|\n",
      "|      0| 28|  868|\n",
      "|      0| 56|  104|\n",
      "|      0| 50|  224|\n",
      "|      0| 22|  344|\n",
      "|      0| 58|   62|\n",
      "|      0| 67|   11|\n",
      "|      0| 40|  491|\n",
      "|      0| 57|   76|\n",
      "|      0| 32|  699|\n",
      "|      0| 60|   31|\n",
      "|      0| 73|    1|\n",
      "|      0| 65|   17|\n",
      "|      0| 70|    6|\n",
      "|      0| 48|  275|\n",
      "|      0| 25|  722|\n",
      "+-------+---+-----+\n",
      "only showing top 20 rows\n",
      "\n"
     ]
    }
   ],
   "source": [
    "datadft_bis_clean.groupBy(['DEFAULT','AGE']).count().orderBy(asc(\"DEFAULT\")).show()"
   ]
  },
  {
   "cell_type": "code",
   "execution_count": 21,
   "id": "2aac22d1",
   "metadata": {},
   "outputs": [
    {
     "name": "stdout",
     "output_type": "stream",
     "text": [
      "+-------+---------+-----+\n",
      "|DEFAULT|LIMIT_BAL|count|\n",
      "+-------+---------+-----+\n",
      "|      0|    50000| 2137|\n",
      "|      0|    20000| 1070|\n",
      "|      0|    80000|  946|\n",
      "|      0|    30000|  867|\n",
      "|      0|   200000|  811|\n",
      "|      1|    50000|  790|\n",
      "|      0|   150000|  626|\n",
      "|      0|   100000|  620|\n",
      "|      1|    20000|  593|\n",
      "|      0|   180000|  567|\n",
      "|      0|    60000|  537|\n",
      "|      1|    30000|  522|\n",
      "|      0|   140000|  488|\n",
      "|      0|    70000|  480|\n",
      "|      0|   500000|  458|\n",
      "|      0|   130000|  448|\n",
      "|      0|   210000|  431|\n",
      "|      0|   120000|  430|\n",
      "|      0|   230000|  429|\n",
      "|      0|   360000|  410|\n",
      "+-------+---------+-----+\n",
      "only showing top 20 rows\n",
      "\n"
     ]
    }
   ],
   "source": [
    "datadft_bis_clean.groupBy(['DEFAULT','LIMIT_BAL']).count().orderBy(desc(\"DEFAULT\")).orderBy(desc(\"count\")).show()"
   ]
  },
  {
   "cell_type": "code",
   "execution_count": 22,
   "id": "9566c631",
   "metadata": {},
   "outputs": [
    {
     "name": "stdout",
     "output_type": "stream",
     "text": [
      "+-------+------------------+\n",
      "|DEFAULT|           BALANCE|\n",
      "+-------+------------------+\n",
      "|      0|168451.11260957518|\n",
      "|      1|115928.32525177173|\n",
      "+-------+------------------+\n",
      "\n"
     ]
    }
   ],
   "source": [
    "datadft_bis_clean.createOrReplaceTempView(\"dataView\")\n",
    "spark.sql(\"SELECT DEFAULT, avg(LIMIT_BAL) AS BALANCE FROM dataView GROUP BY DEFAULT ORDER BY BALANCE DESC\").show()"
   ]
  },
  {
   "cell_type": "code",
   "execution_count": 23,
   "id": "8d8a0e2d",
   "metadata": {},
   "outputs": [
    {
     "data": {
      "text/plain": [
       "DataFrame[ID: int, LIMIT_BAL: int, SEX: int, EDUCATION: int, MARRIAGE: int, AGE: int, PAY_0: int, PAY_2: int, PAY_3: int, PAY_4: int, PAY_5: int, PAY_6: int, BILL_AMT1: int, BILL_AMT2: int, BILL_AMT3: int, BILL_AMT4: int, BILL_AMT5: int, BILL_AMT6: int, PAY_AMT1: int, PAY_AMT2: int, PAY_AMT3: int, PAY_AMT4: int, PAY_AMT5: int, PAY_AMT6: int, DEFAULT: int]"
      ]
     },
     "execution_count": 23,
     "metadata": {},
     "output_type": "execute_result"
    }
   ],
   "source": [
    "datadft_bis_clean"
   ]
  },
  {
   "cell_type": "markdown",
   "id": "d3601b73",
   "metadata": {},
   "source": [
    "### 3. Preparation des données\n",
    "#### Renommons la colonne DEFAULT en label"
   ]
  },
  {
   "cell_type": "code",
   "execution_count": 24,
   "id": "17239762",
   "metadata": {},
   "outputs": [],
   "source": [
    "# datadft_bis = datadft.withColumn(\"ID\",\"LIMIT_BAL\",\"SEX\",\"EDUCATION\",\"MARRIAGE\",\"AGE\",\"PAY_0\",\"PAY_2\",\"PAY_3\",\"PAY_4\",\"PAY_5\",\"PAY_6\",\"BILL_AMT1\",\"BILL_AMT2\",\"BILL_AMT3\",\"BILL_AMT4\",\"BILL_AMT5\",\"BILL_AMT6\",\"PAY_AMT1\",\"PAY_AMT2\",\"PAY_AMT3\",\"PAY_AMT4\",\"PAY_AMT5\",\"PAY_AMT6\",\"DEFAULT\")\n",
    "renamedDatadft_bis_clean = datadft_bis_clean.withColumnRenamed(\"DEFAULT\",\"label\")"
   ]
  },
  {
   "cell_type": "code",
   "execution_count": 25,
   "id": "e6ab5adf",
   "metadata": {},
   "outputs": [
    {
     "name": "stdout",
     "output_type": "stream",
     "text": [
      "+---+---------+---+---------+--------+---+-----+-----+-----+-----+-----+-----+---------+---------+---------+---------+---------+---------+--------+--------+--------+--------+--------+--------+-----+\n",
      "| ID|LIMIT_BAL|SEX|EDUCATION|MARRIAGE|AGE|PAY_0|PAY_2|PAY_3|PAY_4|PAY_5|PAY_6|BILL_AMT1|BILL_AMT2|BILL_AMT3|BILL_AMT4|BILL_AMT5|BILL_AMT6|PAY_AMT1|PAY_AMT2|PAY_AMT3|PAY_AMT4|PAY_AMT5|PAY_AMT6|label|\n",
      "+---+---------+---+---------+--------+---+-----+-----+-----+-----+-----+-----+---------+---------+---------+---------+---------+---------+--------+--------+--------+--------+--------+--------+-----+\n",
      "|  2|   120000|  2|        2|       2| 26|   -1|    2|    0|    0|    0|    2|     2682|     1725|     2682|     3272|     3455|     3261|       0|    1000|    1000|    1000|       0|    2000|    1|\n",
      "|  3|    90000|  2|        2|       2| 34|    0|    0|    0|    0|    0|    0|    29239|    14027|    13559|    14331|    14948|    15549|    1518|    1500|    1000|    1000|    1000|    5000|    0|\n",
      "|  4|    50000|  2|        2|       1| 37|    0|    0|    0|    0|    0|    0|    46990|    48233|    49291|    28314|    28959|    29547|    2000|    2019|    1200|    1100|    1069|    1000|    0|\n",
      "|  5|    50000|  1|        2|       1| 57|   -1|    0|   -1|    0|    0|    0|     8617|     5670|    35835|    20940|    19146|    19131|    2000|   36681|   10000|    9000|     689|     679|    0|\n",
      "|  6|    50000|  1|        1|       2| 37|    0|    0|    0|    0|    0|    0|    64400|    57069|    57608|    19394|    19619|    20024|    2500|    1815|     657|    1000|    1000|     800|    0|\n",
      "+---+---------+---+---------+--------+---+-----+-----+-----+-----+-----+-----+---------+---------+---------+---------+---------+---------+--------+--------+--------+--------+--------+--------+-----+\n",
      "only showing top 5 rows\n",
      "\n"
     ]
    }
   ],
   "source": [
    "renamedDatadft_bis_clean.show(5)"
   ]
  },
  {
   "cell_type": "code",
   "execution_count": 26,
   "id": "bb6065c2",
   "metadata": {},
   "outputs": [],
   "source": [
    "#  colonne des etiquettes\n",
    "colLabel = \"label\"\n",
    "\n",
    "#  colonne numerique\n",
    "colNum = [col for col in renamedDatadft_bis_clean.columns if col!= colLabel]"
   ]
  },
  {
   "cell_type": "code",
   "execution_count": 27,
   "id": "a4d50a2d",
   "metadata": {},
   "outputs": [
    {
     "data": {
      "text/plain": [
       "['ID',\n",
       " 'LIMIT_BAL',\n",
       " 'SEX',\n",
       " 'EDUCATION',\n",
       " 'MARRIAGE',\n",
       " 'AGE',\n",
       " 'PAY_0',\n",
       " 'PAY_2',\n",
       " 'PAY_3',\n",
       " 'PAY_4',\n",
       " 'PAY_5',\n",
       " 'PAY_6',\n",
       " 'BILL_AMT1',\n",
       " 'BILL_AMT2',\n",
       " 'BILL_AMT3',\n",
       " 'BILL_AMT4',\n",
       " 'BILL_AMT5',\n",
       " 'BILL_AMT6',\n",
       " 'PAY_AMT1',\n",
       " 'PAY_AMT2',\n",
       " 'PAY_AMT3',\n",
       " 'PAY_AMT4',\n",
       " 'PAY_AMT5',\n",
       " 'PAY_AMT6']"
      ]
     },
     "execution_count": 27,
     "metadata": {},
     "output_type": "execute_result"
    }
   ],
   "source": [
    "colNum"
   ]
  },
  {
   "cell_type": "code",
   "execution_count": 28,
   "id": "e4b4252c",
   "metadata": {},
   "outputs": [
    {
     "name": "stdout",
     "output_type": "stream",
     "text": [
      "+--------------------+-----+\n",
      "|            features|label|\n",
      "+--------------------+-----+\n",
      "|[2.32168783618879...|    1|\n",
      "|[3.48253175428319...|    0|\n",
      "|[4.64337567237759...|    0|\n",
      "|[5.80421959047199...|    0|\n",
      "|[6.96506350856639...|    0|\n",
      "+--------------------+-----+\n",
      "only showing top 5 rows\n",
      "\n"
     ]
    }
   ],
   "source": [
    "from pyspark.ml.feature import VectorAssembler, StandardScaler\n",
    "\n",
    "va =  VectorAssembler().setInputCols(colNum).setOutputCol(\"to_be_scaled_features\")\n",
    "\n",
    "featuredDatadft_bis_clean = va.transform(renamedDatadft_bis_clean)\n",
    "\n",
    "scaler =  StandardScaler().setInputCol(\"to_be_scaled_features\").setOutputCol(\"features\")\n",
    "\n",
    "dataset_bis = scaler.fit(featuredDatadft_bis_clean).transform(featuredDatadft_bis_clean).select(\"features\", \"label\")\n",
    "\n",
    "dataset_bis.show(5)"
   ]
  },
  {
   "cell_type": "markdown",
   "id": "f198e2d9",
   "metadata": {},
   "source": [
    "### 4. Application des modèles"
   ]
  },
  {
   "cell_type": "code",
   "execution_count": 29,
   "id": "8e26c5df",
   "metadata": {},
   "outputs": [],
   "source": [
    "trainSetb, testSetb = dataset_bis.randomSplit([0.8,0.2])"
   ]
  },
  {
   "cell_type": "code",
   "execution_count": 30,
   "id": "cc1d5d5f",
   "metadata": {},
   "outputs": [
    {
     "data": {
      "text/plain": [
       "18494"
      ]
     },
     "execution_count": 30,
     "metadata": {},
     "output_type": "execute_result"
    }
   ],
   "source": [
    "trainSetb.count()"
   ]
  },
  {
   "cell_type": "code",
   "execution_count": 31,
   "id": "c1bd33c6",
   "metadata": {},
   "outputs": [
    {
     "data": {
      "text/plain": [
       "4664"
      ]
     },
     "execution_count": 31,
     "metadata": {},
     "output_type": "execute_result"
    }
   ],
   "source": [
    "testSetb.count()"
   ]
  },
  {
   "cell_type": "code",
   "execution_count": 32,
   "id": "728d37f8",
   "metadata": {},
   "outputs": [
    {
     "name": "stdout",
     "output_type": "stream",
     "text": [
      "+--------------------+-----+\n",
      "|            features|label|\n",
      "+--------------------+-----+\n",
      "|(24,[0,1,2,3,4,5,...|    0|\n",
      "|(24,[0,1,2,3,4,5,...|    0|\n",
      "|(24,[0,1,2,3,4,5,...|    0|\n",
      "|(24,[0,1,2,3,4,5,...|    0|\n",
      "|(24,[0,1,2,3,4,5,...|    0|\n",
      "+--------------------+-----+\n",
      "only showing top 5 rows\n",
      "\n"
     ]
    }
   ],
   "source": [
    "trainSetb.show(5)"
   ]
  },
  {
   "cell_type": "markdown",
   "id": "59e06e93",
   "metadata": {},
   "source": [
    "### 4.1 Logistic Regression"
   ]
  },
  {
   "cell_type": "code",
   "execution_count": 33,
   "id": "3fa583ee",
   "metadata": {},
   "outputs": [],
   "source": [
    "from pyspark.ml.classification import LogisticRegression\n",
    "from pyspark.ml.evaluation import BinaryClassificationEvaluator\n",
    "\n",
    "lr_b = LogisticRegression(maxIter=100, regParam=0.0001, elasticNetParam=0.1)\n",
    "lrModel_b = lr_b.fit(trainSetb)"
   ]
  },
  {
   "cell_type": "code",
   "execution_count": 34,
   "id": "637d5ad3",
   "metadata": {},
   "outputs": [
    {
     "name": "stdout",
     "output_type": "stream",
     "text": [
      "Coefficients: [-0.02094330588103058,-0.17998491808473413,-0.04570017072716318,-0.03772318212736771,-0.08207283798231185,0.05980937514460258,0.6760420221760369,0.11032980661501554,0.08180686709890893,0.04774788768784148,0.07102923985889595,0.07978566469835958,-0.3711038032003112,0.2841025868205868,0.002833425120911844,0.049224513407792644,0.015627669327713645,-0.015931441855878616,-0.15447222157692014,-0.14494741912990822,-0.007457465858492866,-0.05608250525945112,-0.047916706055974104,0.02873570956534439]\n",
      "Intercept: -0.928546893254043\n"
     ]
    }
   ],
   "source": [
    "# trainingSummary = lrModel.summary\n",
    "print(\"Coefficients: \" + str(lrModel_b.coefficients))\n",
    "print(\"Intercept: \" + str(lrModel_b.intercept))"
   ]
  },
  {
   "cell_type": "code",
   "execution_count": 35,
   "id": "ecb4cbda",
   "metadata": {},
   "outputs": [
    {
     "name": "stdout",
     "output_type": "stream",
     "text": [
      "Training set areaUnderROC: 0.7524071908449781\n",
      "+--------------------+--------------------+\n",
      "|                 FPR|                 TPR|\n",
      "+--------------------+--------------------+\n",
      "|                 0.0|                 0.0|\n",
      "|4.907459338194055E-4|0.002600472813238...|\n",
      "|0.001051598429613...|0.004964539007092199|\n",
      "|0.001542344363432...|0.007565011820330969|\n",
      "|0.001752664049355...|0.011111111111111112|\n",
      "|0.002243409983174425|0.013711583924349883|\n",
      "|0.002383623107122...|0.017494089834515367|\n",
      "|0.002734155916993...| 0.02056737588652482|\n",
      "|0.003084688726864...| 0.02364066193853428|\n",
      "|0.003295008412787437|0.027186761229314422|\n",
      "|0.003715647784632...|0.030023640661938536|\n",
      "|0.003996074032529445| 0.03333333333333333|\n",
      "|0.004136287156477846|0.037115839243498816|\n",
      "|0.004416713404374649| 0.04042553191489362|\n",
      "|0.004837352776219...| 0.04326241134751773|\n",
      "|0.005047672462142457| 0.04680851063829787|\n",
      "| 0.00532809871003926|0.050118203309692674|\n",
      "|0.005748738081884464|0.052955082742316785|\n",
      "|0.005959057767807066|0.056501182033096925|\n",
      "|0.006449803701626472|  0.0591016548463357|\n",
      "+--------------------+--------------------+\n",
      "only showing top 20 rows\n",
      "\n",
      "+--------------------+------------------+\n",
      "|              recall|         precision|\n",
      "+--------------------+------------------+\n",
      "|                 0.0|0.6111111111111112|\n",
      "|0.002600472813238...|0.6111111111111112|\n",
      "|0.004964539007092199|0.5833333333333334|\n",
      "|0.007565011820330969|0.5925925925925926|\n",
      "|0.011111111111111112|0.6527777777777778|\n",
      "|0.013711583924349883|0.6444444444444445|\n",
      "|0.017494089834515367|0.6851851851851852|\n",
      "| 0.02056737588652482|0.6904761904761905|\n",
      "| 0.02364066193853428|0.6944444444444444|\n",
      "|0.027186761229314422|0.7098765432098766|\n",
      "|0.030023640661938536|0.7055555555555556|\n",
      "| 0.03333333333333333|0.7121212121212122|\n",
      "|0.037115839243498816|0.7268518518518519|\n",
      "| 0.04042553191489362|0.7307692307692307|\n",
      "| 0.04326241134751773|0.7261904761904762|\n",
      "| 0.04680851063829787|0.7333333333333333|\n",
      "|0.050118203309692674|0.7361111111111112|\n",
      "|0.052955082742316785|0.7320261437908496|\n",
      "|0.056501182033096925|0.7376543209876543|\n",
      "|  0.0591016548463357|0.7309941520467836|\n",
      "+--------------------+------------------+\n",
      "only showing top 20 rows\n",
      "\n"
     ]
    }
   ],
   "source": [
    "summary = lrModel_b.summary\n",
    "print(\"Training set areaUnderROC:\",summary.areaUnderROC)\n",
    "summary.roc.show()\n",
    "summary.pr.show()"
   ]
  },
  {
   "cell_type": "code",
   "execution_count": 36,
   "id": "af6497c1",
   "metadata": {},
   "outputs": [
    {
     "name": "stdout",
     "output_type": "stream",
     "text": [
      "+----------+-----+--------------------+\n",
      "|prediction|label|            features|\n",
      "+----------+-----+--------------------+\n",
      "|       0.0|    1|(24,[0,1,2,3,4,5,...|\n",
      "|       0.0|    0|(24,[0,1,2,3,4,5,...|\n",
      "|       0.0|    1|(24,[0,1,2,3,4,5,...|\n",
      "|       0.0|    0|(24,[0,1,2,3,4,5,...|\n",
      "|       0.0|    0|(24,[0,1,2,3,4,5,...|\n",
      "|       0.0|    0|(24,[0,1,2,3,4,5,...|\n",
      "|       0.0|    0|(24,[0,1,2,3,4,5,...|\n",
      "|       0.0|    0|(24,[0,1,2,3,4,5,...|\n",
      "|       0.0|    0|(24,[0,1,2,3,4,5,...|\n",
      "|       0.0|    1|(24,[0,1,2,3,4,5,...|\n",
      "|       0.0|    0|(24,[0,1,2,3,4,5,...|\n",
      "|       0.0|    0|(24,[0,1,2,3,4,5,...|\n",
      "|       0.0|    0|(24,[0,1,2,3,4,5,...|\n",
      "|       0.0|    0|(24,[0,1,2,3,4,5,...|\n",
      "|       0.0|    0|(24,[0,1,2,3,4,5,...|\n",
      "|       0.0|    1|[2.32168783618879...|\n",
      "|       0.0|    0|[0.00139301270171...|\n",
      "|       0.0|    0|[0.00185735026895...|\n",
      "|       0.0|    0|[0.00336644736247...|\n",
      "|       0.0|    0|[0.00359861614609...|\n",
      "|       0.0|    0|[0.00429512249694...|\n",
      "|       0.0|    0|[0.00464337567237...|\n",
      "|       0.0|    0|[0.00499162884780...|\n",
      "|       0.0|    0|[0.00684897911675...|\n",
      "|       1.0|    1|[0.00835807621027...|\n",
      "+----------+-----+--------------------+\n",
      "only showing top 25 rows\n",
      "\n",
      "Test Area Under ROC 0.7364789966745253\n"
     ]
    }
   ],
   "source": [
    "# make predictions on the test data\n",
    "lr_predictions_b = lrModel_b.transform(testSetb)\n",
    "lr_predictions_b.select(\"prediction\", \"label\", \"features\").show(25)\n",
    "\n",
    "\n",
    "lr_evaluator_b = BinaryClassificationEvaluator()\n",
    "print('Test Area Under ROC', lr_evaluator_b.evaluate(lr_predictions_b))"
   ]
  },
  {
   "cell_type": "markdown",
   "id": "dc9a3c6e",
   "metadata": {},
   "source": [
    "### 4.2 Decision Tree"
   ]
  },
  {
   "cell_type": "code",
   "execution_count": 40,
   "id": "e4fe563d",
   "metadata": {},
   "outputs": [
    {
     "name": "stdout",
     "output_type": "stream",
     "text": [
      "+----------+-----+--------------------+\n",
      "|prediction|label|            features|\n",
      "+----------+-----+--------------------+\n",
      "|       0.0|    1|(24,[0,1,2,3,4,5,...|\n",
      "|       0.0|    0|(24,[0,1,2,3,4,5,...|\n",
      "|       0.0|    1|(24,[0,1,2,3,4,5,...|\n",
      "|       0.0|    0|(24,[0,1,2,3,4,5,...|\n",
      "|       0.0|    0|(24,[0,1,2,3,4,5,...|\n",
      "|       0.0|    0|(24,[0,1,2,3,4,5,...|\n",
      "|       0.0|    0|(24,[0,1,2,3,4,5,...|\n",
      "|       0.0|    0|(24,[0,1,2,3,4,5,...|\n",
      "|       0.0|    0|(24,[0,1,2,3,4,5,...|\n",
      "|       0.0|    1|(24,[0,1,2,3,4,5,...|\n",
      "|       0.0|    0|(24,[0,1,2,3,4,5,...|\n",
      "|       0.0|    0|(24,[0,1,2,3,4,5,...|\n",
      "|       0.0|    0|(24,[0,1,2,3,4,5,...|\n",
      "|       0.0|    0|(24,[0,1,2,3,4,5,...|\n",
      "|       0.0|    0|(24,[0,1,2,3,4,5,...|\n",
      "|       0.0|    1|[2.32168783618879...|\n",
      "|       0.0|    0|[0.00139301270171...|\n",
      "|       0.0|    0|[0.00185735026895...|\n",
      "|       0.0|    0|[0.00336644736247...|\n",
      "|       0.0|    0|[0.00359861614609...|\n",
      "|       0.0|    0|[0.00429512249694...|\n",
      "|       0.0|    0|[0.00464337567237...|\n",
      "|       0.0|    0|[0.00499162884780...|\n",
      "|       1.0|    0|[0.00684897911675...|\n",
      "|       1.0|    1|[0.00835807621027...|\n",
      "+----------+-----+--------------------+\n",
      "only showing top 25 rows\n",
      "\n",
      "Test Area Under ROC: 0.43740745891175686\n"
     ]
    }
   ],
   "source": [
    "from pyspark.ml.classification import DecisionTreeClassifier\n",
    "from pyspark.ml.evaluation import BinaryClassificationEvaluator\n",
    "\n",
    "dt_b2 = DecisionTreeClassifier().setLabelCol(\"label\").setFeaturesCol(\"features\").setMaxDepth(8)\n",
    "\n",
    "dtModel_b2 = dt_b2.fit(trainSetb)\n",
    "\n",
    "# make predictions on the test data\n",
    "dt_predictions_b2 = dtModel_b2.transform(testSetb)\n",
    "dt_predictions_b2.select(\"prediction\", \"label\", \"features\").show(25)\n",
    "\n",
    "# evaluate the model\n",
    "dt_evaluator_b2 = BinaryClassificationEvaluator()\n",
    "print(\"Test Area Under ROC: \" + str(dt_evaluator_b2.evaluate(dt_predictions_b2, {dt_evaluator_b2.metricName: \"areaUnderROC\"})))"
   ]
  },
  {
   "cell_type": "markdown",
   "id": "a3b9bc91",
   "metadata": {},
   "source": [
    "### 4.3 Random Forest"
   ]
  },
  {
   "cell_type": "code",
   "execution_count": 41,
   "id": "d1971f5b",
   "metadata": {},
   "outputs": [
    {
     "name": "stdout",
     "output_type": "stream",
     "text": [
      "+----------+-----+--------------------+\n",
      "|prediction|label|            features|\n",
      "+----------+-----+--------------------+\n",
      "|       0.0|    1|(24,[0,1,2,3,4,5,...|\n",
      "|       0.0|    0|(24,[0,1,2,3,4,5,...|\n",
      "|       0.0|    1|(24,[0,1,2,3,4,5,...|\n",
      "|       0.0|    0|(24,[0,1,2,3,4,5,...|\n",
      "|       0.0|    0|(24,[0,1,2,3,4,5,...|\n",
      "|       0.0|    0|(24,[0,1,2,3,4,5,...|\n",
      "|       0.0|    0|(24,[0,1,2,3,4,5,...|\n",
      "|       0.0|    0|(24,[0,1,2,3,4,5,...|\n",
      "|       0.0|    0|(24,[0,1,2,3,4,5,...|\n",
      "|       0.0|    1|(24,[0,1,2,3,4,5,...|\n",
      "|       0.0|    0|(24,[0,1,2,3,4,5,...|\n",
      "|       0.0|    0|(24,[0,1,2,3,4,5,...|\n",
      "|       0.0|    0|(24,[0,1,2,3,4,5,...|\n",
      "|       0.0|    0|(24,[0,1,2,3,4,5,...|\n",
      "|       0.0|    0|(24,[0,1,2,3,4,5,...|\n",
      "|       0.0|    1|[2.32168783618879...|\n",
      "|       0.0|    0|[0.00139301270171...|\n",
      "|       0.0|    0|[0.00185735026895...|\n",
      "|       0.0|    0|[0.00336644736247...|\n",
      "|       0.0|    0|[0.00359861614609...|\n",
      "|       0.0|    0|[0.00429512249694...|\n",
      "|       0.0|    0|[0.00464337567237...|\n",
      "|       0.0|    0|[0.00499162884780...|\n",
      "|       0.0|    0|[0.00684897911675...|\n",
      "|       1.0|    1|[0.00835807621027...|\n",
      "+----------+-----+--------------------+\n",
      "only showing top 25 rows\n",
      "\n"
     ]
    }
   ],
   "source": [
    "from pyspark.ml.classification import RandomForestClassifier\n",
    "\n",
    "rf = RandomForestClassifier(featuresCol = \"features\", labelCol = \"label\")\n",
    "rfModel_b = rf.fit(trainSetb)\n",
    "rf_predictions_b = rfModel_b.transform(testSetb)\n",
    "rf_predictions_b.select(\"prediction\", \"label\", \"features\").show(25)"
   ]
  },
  {
   "cell_type": "code",
   "execution_count": 42,
   "id": "4fdf247d",
   "metadata": {},
   "outputs": [
    {
     "name": "stdout",
     "output_type": "stream",
     "text": [
      "Accuracy = 0.7793560340791312\n",
      "Test Error = 0.22064396592086877\n"
     ]
    }
   ],
   "source": [
    "rf_evaluator2 = BinaryClassificationEvaluator(labelCol=\"label\")\n",
    "accuracy = rf_evaluator2.evaluate(rf_predictions_b)\n",
    "print(\"Accuracy = %s\" % (accuracy))\n",
    "print(\"Test Error = %s\" % (1.0 - accuracy))"
   ]
  },
  {
   "cell_type": "code",
   "execution_count": 43,
   "id": "d96af65d",
   "metadata": {},
   "outputs": [
    {
     "name": "stdout",
     "output_type": "stream",
     "text": [
      "Test Area Under ROC: 0.7793560340791312\n"
     ]
    }
   ],
   "source": [
    "rf_evaluator_b = BinaryClassificationEvaluator()\n",
    "print(\"Test Area Under ROC: \" + str(rf_evaluator_b.evaluate(rf_predictions_b, {rf_evaluator_b.metricName: \"areaUnderROC\"})))"
   ]
  }
 ],
 "metadata": {
  "kernelspec": {
   "display_name": "Python 3",
   "language": "python",
   "name": "python3"
  },
  "language_info": {
   "codemirror_mode": {
    "name": "ipython",
    "version": 3
   },
   "file_extension": ".py",
   "mimetype": "text/x-python",
   "name": "python",
   "nbconvert_exporter": "python",
   "pygments_lexer": "ipython3",
   "version": "3.8.8"
  }
 },
 "nbformat": 4,
 "nbformat_minor": 5
}
